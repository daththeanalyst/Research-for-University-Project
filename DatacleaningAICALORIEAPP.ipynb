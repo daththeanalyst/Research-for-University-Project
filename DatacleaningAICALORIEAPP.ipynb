{
 "cells": [
  {
   "cell_type": "code",
   "execution_count": 234,
   "id": "1521e869-2bc7-47be-96b7-01cb1e5de39c",
   "metadata": {},
   "outputs": [
    {
     "name": "stdout",
     "output_type": "stream",
     "text": [
      "                                                 App        Category  Rating  \\\n",
      "0     Photo Editor & Candy Camera & Grid & ScrapBook  ART_AND_DESIGN     4.1   \n",
      "1                                Coloring book moana  ART_AND_DESIGN     3.9   \n",
      "2  U Launcher Lite – FREE Live Cool Themes, Hide ...  ART_AND_DESIGN     4.7   \n",
      "3                              Sketch - Draw & Paint  ART_AND_DESIGN     4.5   \n",
      "4              Pixel Draw - Number Art Coloring Book  ART_AND_DESIGN     4.3   \n",
      "\n",
      "  Reviews  Size     Installs  Type Price Content Rating  \\\n",
      "0     159   19M      10,000+  Free     0       Everyone   \n",
      "1     967   14M     500,000+  Free     0       Everyone   \n",
      "2   87510  8.7M   5,000,000+  Free     0       Everyone   \n",
      "3  215644   25M  50,000,000+  Free     0           Teen   \n",
      "4     967  2.8M     100,000+  Free     0       Everyone   \n",
      "\n",
      "                      Genres      Last Updated         Current Ver  \\\n",
      "0               Art & Design   January 7, 2018               1.0.0   \n",
      "1  Art & Design;Pretend Play  January 15, 2018               2.0.0   \n",
      "2               Art & Design    August 1, 2018               1.2.4   \n",
      "3               Art & Design      June 8, 2018  Varies with device   \n",
      "4    Art & Design;Creativity     June 20, 2018                 1.1   \n",
      "\n",
      "    Android Ver  \n",
      "0  4.0.3 and up  \n",
      "1  4.0.3 and up  \n",
      "2  4.0.3 and up  \n",
      "3    4.2 and up  \n",
      "4    4.4 and up  \n",
      "<class 'pandas.core.frame.DataFrame'>\n",
      "RangeIndex: 10841 entries, 0 to 10840\n",
      "Data columns (total 13 columns):\n",
      " #   Column          Non-Null Count  Dtype  \n",
      "---  ------          --------------  -----  \n",
      " 0   App             10841 non-null  object \n",
      " 1   Category        10841 non-null  object \n",
      " 2   Rating          9367 non-null   float64\n",
      " 3   Reviews         10841 non-null  object \n",
      " 4   Size            10841 non-null  object \n",
      " 5   Installs        10841 non-null  object \n",
      " 6   Type            10840 non-null  object \n",
      " 7   Price           10841 non-null  object \n",
      " 8   Content Rating  10840 non-null  object \n",
      " 9   Genres          10841 non-null  object \n",
      " 10  Last Updated    10841 non-null  object \n",
      " 11  Current Ver     10833 non-null  object \n",
      " 12  Android Ver     10838 non-null  object \n",
      "dtypes: float64(1), object(12)\n",
      "memory usage: 1.1+ MB\n",
      "None\n"
     ]
    }
   ],
   "source": [
    "import pandas as pd\n",
    "import numpy as np\n",
    "import matplotlib.pyplot as plt\n",
    "\n",
    "# Load the dataset\n",
    "df = pd.read_csv(r\"C:\\Users\\Dath\\Downloads\\googleplaystore.csv\\googleplaystoredataset.csv\")\n",
    "\n",
    "# Preview the dataset\n",
    "print(df.head())\n",
    "print(df.info())\n"
   ]
  },
  {
   "cell_type": "code",
   "execution_count": 236,
   "id": "48ce0090-3d89-47cb-8e2a-3dc4384c2ab0",
   "metadata": {},
   "outputs": [
    {
     "name": "stdout",
     "output_type": "stream",
     "text": [
      "App                  0\n",
      "Category             0\n",
      "Rating            1474\n",
      "Reviews              0\n",
      "Size                 0\n",
      "Installs             0\n",
      "Type                 1\n",
      "Price                0\n",
      "Content Rating       1\n",
      "Genres               0\n",
      "Last Updated         0\n",
      "Current Ver          8\n",
      "Android Ver          3\n",
      "dtype: int64\n"
     ]
    }
   ],
   "source": [
    "# Check for null values in each column\n",
    "print(df.isnull().sum())"
   ]
  },
  {
   "cell_type": "code",
   "execution_count": 238,
   "id": "06a5d15f-1b8b-4efd-afd4-32504e7b412e",
   "metadata": {},
   "outputs": [
    {
     "name": "stdout",
     "output_type": "stream",
     "text": [
      "App                0.000000\n",
      "Category           0.000000\n",
      "Rating            13.596532\n",
      "Reviews            0.000000\n",
      "Size               0.000000\n",
      "Installs           0.000000\n",
      "Type               0.009224\n",
      "Price              0.000000\n",
      "Content Rating     0.009224\n",
      "Genres             0.000000\n",
      "Last Updated       0.000000\n",
      "Current Ver        0.073794\n",
      "Android Ver        0.027673\n",
      "dtype: float64\n"
     ]
    }
   ],
   "source": [
    "# Calculate the percentage of missing values in each column\n",
    "missing_percentage = (df.isnull().sum() / len(df)) * 100\n",
    "print(missing_percentage)\n"
   ]
  },
  {
   "cell_type": "code",
   "execution_count": 240,
   "id": "14de7efd-1744-4dde-87ea-096c35d15d2d",
   "metadata": {},
   "outputs": [],
   "source": [
    "df['Rating'] = df['Rating'].fillna(df['Rating'].median())  # Fill missing ratings with median\n",
    "df['Type'] = df['Type'].fillna('Free')  # Assume missing values in Type are 'Free'\n",
    "df['Content Rating'] = df['Content Rating'].fillna('Everyone')  # Replace with common value"
   ]
  },
  {
   "cell_type": "code",
   "execution_count": 242,
   "id": "e4bb5cf7-0d77-4a12-aea3-91d13d8a465b",
   "metadata": {},
   "outputs": [
    {
     "name": "stdout",
     "output_type": "stream",
     "text": [
      "0       159\n",
      "1       967\n",
      "2     87510\n",
      "3    215644\n",
      "4       967\n",
      "Name: Reviews, dtype: int32\n"
     ]
    }
   ],
   "source": [
    "def clean_reviews(value):\n",
    "    if isinstance(value, str):  # Check if the value is a string\n",
    "        if 'M' in value:  # Handle values like '3.0M'\n",
    "            return float(value.replace('M', '')) * 1e6\n",
    "        elif value.isnumeric():  # Check if the string is numeric\n",
    "            return int(value)\n",
    "        else:\n",
    "            return np.nan  # Handle non-numeric strings\n",
    "    elif isinstance(value, (int, float)):  # If the value is already numeric\n",
    "        return value\n",
    "    else:\n",
    "        return np.nan  # Handle unexpected data types\n",
    "\n",
    "# Apply the cleaning function\n",
    "df['Reviews'] = df['Reviews'].apply(clean_reviews)\n",
    "\n",
    "# Handle missing values if any remain\n",
    "df['Reviews'] = df['Reviews'].fillna(0).astype(int)\n",
    "\n",
    "# Verify the result\n",
    "print(df['Reviews'].head())"
   ]
  },
  {
   "cell_type": "code",
   "execution_count": 244,
   "id": "41f0c21f-8025-4556-bece-136cc7cf8058",
   "metadata": {},
   "outputs": [
    {
     "name": "stdout",
     "output_type": "stream",
     "text": [
      "                                                 App        Category  Rating  \\\n",
      "0     Photo Editor & Candy Camera & Grid & ScrapBook  ART_AND_DESIGN     4.1   \n",
      "1                                Coloring book moana  ART_AND_DESIGN     3.9   \n",
      "2  U Launcher Lite – FREE Live Cool Themes, Hide ...  ART_AND_DESIGN     4.7   \n",
      "3                              Sketch - Draw & Paint  ART_AND_DESIGN     4.5   \n",
      "4              Pixel Draw - Number Art Coloring Book  ART_AND_DESIGN     4.3   \n",
      "\n",
      "   Reviews  Size     Installs  Type Price Content Rating  \\\n",
      "0      159   19M      10,000+  Free     0       Everyone   \n",
      "1      967   14M     500,000+  Free     0       Everyone   \n",
      "2    87510  8.7M   5,000,000+  Free     0       Everyone   \n",
      "3   215644   25M  50,000,000+  Free     0           Teen   \n",
      "4      967  2.8M     100,000+  Free     0       Everyone   \n",
      "\n",
      "                      Genres      Last Updated         Current Ver  \\\n",
      "0               Art & Design   January 7, 2018               1.0.0   \n",
      "1  Art & Design;Pretend Play  January 15, 2018               2.0.0   \n",
      "2               Art & Design    August 1, 2018               1.2.4   \n",
      "3               Art & Design      June 8, 2018  Varies with device   \n",
      "4    Art & Design;Creativity     June 20, 2018                 1.1   \n",
      "\n",
      "    Android Ver  \n",
      "0  4.0.3 and up  \n",
      "1  4.0.3 and up  \n",
      "2  4.0.3 and up  \n",
      "3    4.2 and up  \n",
      "4    4.4 and up  \n",
      "<class 'pandas.core.frame.DataFrame'>\n",
      "RangeIndex: 10841 entries, 0 to 10840\n",
      "Data columns (total 13 columns):\n",
      " #   Column          Non-Null Count  Dtype  \n",
      "---  ------          --------------  -----  \n",
      " 0   App             10841 non-null  object \n",
      " 1   Category        10841 non-null  object \n",
      " 2   Rating          10841 non-null  float64\n",
      " 3   Reviews         10841 non-null  int32  \n",
      " 4   Size            10841 non-null  object \n",
      " 5   Installs        10841 non-null  object \n",
      " 6   Type            10841 non-null  object \n",
      " 7   Price           10841 non-null  object \n",
      " 8   Content Rating  10841 non-null  object \n",
      " 9   Genres          10841 non-null  object \n",
      " 10  Last Updated    10841 non-null  object \n",
      " 11  Current Ver     10833 non-null  object \n",
      " 12  Android Ver     10838 non-null  object \n",
      "dtypes: float64(1), int32(1), object(11)\n",
      "memory usage: 1.0+ MB\n",
      "None\n"
     ]
    }
   ],
   "source": [
    "print(df.head())\n",
    "print(df.info())"
   ]
  },
  {
   "cell_type": "code",
   "execution_count": 246,
   "id": "1b470359-883f-4a05-9327-f9ea260c229b",
   "metadata": {},
   "outputs": [
    {
     "name": "stdout",
     "output_type": "stream",
     "text": [
      "App               0\n",
      "Category          0\n",
      "Rating            0\n",
      "Reviews           0\n",
      "Size              0\n",
      "Installs          0\n",
      "Type              0\n",
      "Price             0\n",
      "Content Rating    0\n",
      "Genres            0\n",
      "Last Updated      0\n",
      "Current Ver       8\n",
      "Android Ver       3\n",
      "dtype: int64\n"
     ]
    }
   ],
   "source": [
    "print(df.isnull().sum())\n"
   ]
  },
  {
   "cell_type": "code",
   "execution_count": 248,
   "id": "7ed6b2ee-d7ea-4b2b-aeaf-42d35b4863ee",
   "metadata": {},
   "outputs": [
    {
     "name": "stdout",
     "output_type": "stream",
     "text": [
      "                                   App             Category  Rating  Reviews  \\\n",
      "15     Learn To Draw Kawaii Characters       ART_AND_DESIGN     3.2       55   \n",
      "1553              Market Update Helper   LIBRARIES_AND_DEMO     4.1    20145   \n",
      "6322            Virtual DJ Sound Mixer                TOOLS     4.2     4010   \n",
      "6803                         BT Master               FAMILY     4.3        0   \n",
      "7333                       Dots puzzle               FAMILY     4.0      179   \n",
      "7407                   Calculate My IQ               FAMILY     4.3       44   \n",
      "7730                            UFO-CQ                TOOLS     4.3        1   \n",
      "10342                   La Fe de Jesus  BOOKS_AND_REFERENCE     4.3        8   \n",
      "\n",
      "       Size    Installs  Type  Price Content Rating             Genres  \\\n",
      "15     2.7M      5,000+  Free      0       Everyone       Art & Design   \n",
      "1553    11k  1,000,000+  Free      0       Everyone   Libraries & Demo   \n",
      "6322   8.7M    500,000+  Free      0       Everyone              Tools   \n",
      "6803   222k        100+  Free      0       Everyone          Education   \n",
      "7333    14M     50,000+  Paid  $0.99       Everyone             Puzzle   \n",
      "7407   7.2M     10,000+  Free      0       Everyone      Entertainment   \n",
      "7730   237k         10+  Paid  $0.99       Everyone              Tools   \n",
      "10342  658k      1,000+  Free      0       Everyone  Books & Reference   \n",
      "\n",
      "            Last Updated Current Ver Android Ver  \n",
      "15          June 6, 2018         NaN  4.2 and up  \n",
      "1553   February 12, 2013         NaN  1.5 and up  \n",
      "6322        May 10, 2017         NaN  4.0 and up  \n",
      "6803    November 6, 2016         NaN  1.6 and up  \n",
      "7333      April 18, 2018         NaN  4.0 and up  \n",
      "7407       April 3, 2017         NaN  2.3 and up  \n",
      "7730        July 4, 2016         NaN  2.0 and up  \n",
      "10342   January 31, 2017         NaN  3.0 and up  \n",
      "                                           App         Category  Rating  \\\n",
      "4453                    [substratum] Vacuum: P  PERSONALIZATION     4.4   \n",
      "4490                      Pi Dark [substratum]  PERSONALIZATION     4.5   \n",
      "10472  Life Made WI-Fi Touchscreen Photo Frame              1.9    19.0   \n",
      "\n",
      "       Reviews    Size Installs  Type     Price Content Rating  \\\n",
      "4453       230     11M   1,000+  Paid     $1.49       Everyone   \n",
      "4490       189    2.1M  10,000+  Free         0       Everyone   \n",
      "10472  3000000  1,000+     Free     0  Everyone       Everyone   \n",
      "\n",
      "                  Genres    Last Updated Current Ver Android Ver  \n",
      "4453     Personalization   July 20, 2018         4.4         NaN  \n",
      "4490     Personalization  March 27, 2018         1.1         NaN  \n",
      "10472  February 11, 2018          1.0.19  4.0 and up         NaN  \n"
     ]
    }
   ],
   "source": [
    "# Rows with missing 'Current Ver'\n",
    "print(df[df['Current Ver'].isnull()])\n",
    "\n",
    "# Rows with missing 'Android Ver'\n",
    "print(df[df['Android Ver'].isnull()])\n",
    "df['Current Ver'] = df['Current Ver'].fillna('Unknown')\n",
    "df['Android Ver'] = df['Android Ver'].fillna"
   ]
  },
  {
   "cell_type": "code",
   "execution_count": 250,
   "id": "38f2451d-ee32-4c7d-8939-04944d96856e",
   "metadata": {},
   "outputs": [
    {
     "name": "stdout",
     "output_type": "stream",
     "text": [
      "App               0\n",
      "Category          0\n",
      "Rating            0\n",
      "Reviews           0\n",
      "Size              0\n",
      "Installs          0\n",
      "Type              0\n",
      "Price             0\n",
      "Content Rating    0\n",
      "Genres            0\n",
      "Last Updated      0\n",
      "Current Ver       0\n",
      "Android Ver       0\n",
      "dtype: int64\n"
     ]
    }
   ],
   "source": [
    "print(df.isnull().sum())"
   ]
  },
  {
   "cell_type": "code",
   "execution_count": 252,
   "id": "f05979eb-3c94-4169-b737-e46fc8eee3bb",
   "metadata": {},
   "outputs": [
    {
     "name": "stdout",
     "output_type": "stream",
     "text": [
      "App                object\n",
      "Category           object\n",
      "Rating            float64\n",
      "Reviews             int32\n",
      "Size               object\n",
      "Installs           object\n",
      "Type               object\n",
      "Price              object\n",
      "Content Rating     object\n",
      "Genres             object\n",
      "Last Updated       object\n",
      "Current Ver        object\n",
      "Android Ver        object\n",
      "dtype: object\n"
     ]
    }
   ],
   "source": [
    "print(df.dtypes)\n"
   ]
  },
  {
   "cell_type": "code",
   "execution_count": 254,
   "id": "520cf14f-fb0b-4e8c-a07c-f09de621cb89",
   "metadata": {},
   "outputs": [
    {
     "name": "stdout",
     "output_type": "stream",
     "text": [
      "0    19.0\n",
      "1    14.0\n",
      "2     8.7\n",
      "3    25.0\n",
      "4     2.8\n",
      "Name: Size, dtype: float64\n"
     ]
    }
   ],
   "source": [
    "def convert_size(size):\n",
    "    if isinstance(size, str):\n",
    "        if 'M' in size:  # Convert MB\n",
    "            return float(size.replace('M', ''))\n",
    "        elif 'k' in size:  # Convert KB to MB\n",
    "            return float(size.replace('k', '')) / 1024\n",
    "        else:  # Handle 'Varies with device'\n",
    "            return None\n",
    "    return size\n",
    "\n",
    "df['Size'] = df['Size'].apply(convert_size)\n",
    "df['Size'] = df['Size'].fillna(df['Size'].median())  # Fill missing sizes with the median\n",
    "print(df['Size'].head())\n"
   ]
  },
  {
   "cell_type": "code",
   "execution_count": 256,
   "id": "c910eb01-c8bc-4ea0-8efc-32b346ca69b8",
   "metadata": {},
   "outputs": [
    {
     "name": "stdout",
     "output_type": "stream",
     "text": [
      "0       10000\n",
      "1      500000\n",
      "2     5000000\n",
      "3    50000000\n",
      "4      100000\n",
      "Name: Installs, dtype: int64\n"
     ]
    }
   ],
   "source": [
    "# Replace invalid 'Installs' values with 0\n",
    "def clean_installs(value):\n",
    "    if isinstance(value, str) and value.replace(',', '').replace('+', '').isnumeric():\n",
    "        return int(value.replace(',', '').replace('+', ''))\n",
    "    else:\n",
    "        return 0  # Default value for invalid entries\n",
    "\n",
    "df['Installs'] = df['Installs'].apply(clean_installs)\n",
    "\n",
    "# Verify the cleaned column\n",
    "print(df['Installs'].head())\n",
    "\n"
   ]
  },
  {
   "cell_type": "code",
   "execution_count": 258,
   "id": "fab82f57-6c99-4a55-971c-50bee4680f86",
   "metadata": {},
   "outputs": [
    {
     "name": "stdout",
     "output_type": "stream",
     "text": [
      "0    0.0\n",
      "1    0.0\n",
      "2    0.0\n",
      "3    0.0\n",
      "4    0.0\n",
      "Name: Price, dtype: float64\n",
      "float64\n"
     ]
    }
   ],
   "source": [
    "def clean_price(value):\n",
    "    try:\n",
    "        # Remove the '$' symbol and convert to float\n",
    "        return float(value.replace('$', ''))\n",
    "    except:\n",
    "        # Handle invalid values by replacing them with 0\n",
    "        return 0\n",
    "\n",
    "# Apply the cleaning function\n",
    "df['Price'] = df['Price'].apply(clean_price)\n",
    "\n",
    "# Verify the result\n",
    "print(df['Price'].head())\n",
    "print(df['Price'].dtype)\n"
   ]
  },
  {
   "cell_type": "code",
   "execution_count": 260,
   "id": "ee9079f4-d80c-4b95-b439-93123a75dd81",
   "metadata": {},
   "outputs": [
    {
     "name": "stdout",
     "output_type": "stream",
     "text": [
      "['free' 'paid' '0']\n"
     ]
    }
   ],
   "source": [
    "# Standardize text columns\n",
    "df['Type'] = df['Type'].str.strip().str.lower()\n",
    "df['Category'] = df['Category'].str.strip().str.lower()\n",
    "df['Content Rating'] = df['Content Rating'].str.strip().str.lower()\n",
    "df['Genres'] = df['Genres'].str.strip().str.lower()\n",
    "\n",
    "print(df['Type'].unique())\n"
   ]
  },
  {
   "cell_type": "code",
   "execution_count": 262,
   "id": "c83644c1-cc1a-4203-b6d4-c6d0c5649708",
   "metadata": {},
   "outputs": [
    {
     "name": "stdout",
     "output_type": "stream",
     "text": [
      "0   2018-01-07\n",
      "1   2018-01-15\n",
      "2   2018-08-01\n",
      "3   2018-06-08\n",
      "4   2018-06-20\n",
      "Name: Last Updated, dtype: datetime64[ns]\n"
     ]
    }
   ],
   "source": [
    "from pandas.errors import ParserError\n",
    "\n",
    "# Function to clean and parse dates\n",
    "def clean_date(value):\n",
    "    try:\n",
    "        # Try to parse the date\n",
    "        return pd.to_datetime(value, format=\"%B %d, %Y\", errors=\"coerce\")\n",
    "    except (ValueError, ParserError):\n",
    "        return pd.NaT  # Return NaT (Not a Time) for invalid dates\n",
    "\n",
    "# Apply the cleaning function\n",
    "df['Last Updated'] = df['Last Updated'].apply(clean_date)\n",
    "\n",
    "# Handle missing values (e.g., replace NaT with the median date)\n",
    "df['Last Updated'] = df['Last Updated'].fillna(df['Last Updated'].median())\n",
    "\n",
    "# Verify the cleaned column\n",
    "print(df['Last Updated'].head())\n"
   ]
  },
  {
   "cell_type": "code",
   "execution_count": 263,
   "id": "8a7f5cd1-db91-41c2-ba20-c4dc785a8055",
   "metadata": {},
   "outputs": [
    {
     "name": "stdout",
     "output_type": "stream",
     "text": [
      "[<bound method NDFrame.fillna of 0              4.0.3 and up\n",
      " 1              4.0.3 and up\n",
      " 2              4.0.3 and up\n",
      " 3                4.2 and up\n",
      " 4                4.4 and up\n",
      "                 ...\n",
      " 10836            4.1 and up\n",
      " 10837            4.1 and up\n",
      " 10838            2.2 and up\n",
      " 10839    Varies with device\n",
      " 10840    Varies with device\n",
      " Name: Android Ver, Length: 10841, dtype: object>           ]\n"
     ]
    }
   ],
   "source": [
    "# Replace 'Varies with device' with NaN and fill with the mode\n",
    "df['Android Ver'] = df['Android Ver'].replace('Varies with device', None)\n",
    "df['Android Ver'] = df['Android Ver'].fillna(df['Android Ver'].mode()[0])\n",
    "print(df['Android Ver'].unique())\n"
   ]
  },
  {
   "cell_type": "code",
   "execution_count": 264,
   "id": "241a36f8-3b89-4b89-94dc-6667cae96620",
   "metadata": {},
   "outputs": [
    {
     "name": "stdout",
     "output_type": "stream",
     "text": [
      "App                       object\n",
      "Category                  object\n",
      "Rating                   float64\n",
      "Reviews                    int32\n",
      "Size                     float64\n",
      "Installs                   int64\n",
      "Type                      object\n",
      "Price                    float64\n",
      "Content Rating            object\n",
      "Genres                    object\n",
      "Last Updated      datetime64[ns]\n",
      "Current Ver               object\n",
      "Android Ver               object\n",
      "dtype: object\n"
     ]
    }
   ],
   "source": [
    "print(df.dtypes)\n",
    "\n"
   ]
  },
  {
   "cell_type": "code",
   "execution_count": 265,
   "id": "2fb30282-1ac2-4e3e-b746-f39aafc1188c",
   "metadata": {},
   "outputs": [
    {
     "name": "stdout",
     "output_type": "stream",
     "text": [
      "Fitness Apps Average Rating: 4.280058651026393\n",
      "Other Apps Average Rating: 4.205495238095238\n"
     ]
    }
   ],
   "source": [
    "# Filter fitness apps based on the 'Category' column\n",
    "fitness_apps = df[df['Category'].str.contains(\"Health\", case=False, na=False)]\n",
    "\n",
    "# Average rating for fitness apps\n",
    "fitness_rating = fitness_apps['Rating'].mean()\n",
    "# Average rating for other apps\n",
    "other_rating = df[~df['Category'].str.contains(\"Health\", case=False, na=False)]['Rating'].mean()\n",
    "\n",
    "print(f\"Fitness Apps Average Rating: {fitness_rating}\")\n",
    "print(f\"Other Apps Average Rating: {other_rating}\")\n"
   ]
  },
  {
   "cell_type": "code",
   "execution_count": 270,
   "id": "bc573037-2820-4a6d-aeb4-90d2fc9e0ebc",
   "metadata": {},
   "outputs": [
    {
     "name": "stdout",
     "output_type": "stream",
     "text": [
      "Top Genres by Rating:\n",
      " Genres\n",
      "health & fitness    4.280059\n",
      "Name: Rating, dtype: float64\n",
      "Top Genres by Installs:\n",
      " Genres\n",
      "health & fitness    4.642441e+06\n",
      "Name: Installs, dtype: float64\n"
     ]
    }
   ],
   "source": [
    "# Find common and high-performing features (Genres)\n",
    "genre_ratings = fitness_apps.groupby('Genres')['Rating'].mean().sort_values(ascending=False)\n",
    "genre_installs = fitness_apps.groupby('Genres')['Installs'].mean().sort_values(ascending=False)\n",
    "\n",
    "# Display the top genres by rating and installs\n",
    "print(\"Top Genres by Rating:\\n\", genre_ratings.head(10))\n",
    "print(\"Top Genres by Installs:\\n\", genre_installs.head(10))\n"
   ]
  },
  {
   "cell_type": "code",
   "execution_count": 272,
   "id": "18ec2f86-8bce-4857-95b4-079b47ea65a6",
   "metadata": {},
   "outputs": [
    {
     "name": "stdout",
     "output_type": "stream",
     "text": [
      "Average Price by Genre:\n",
      " Genres\n",
      "health & fitness    0.197478\n",
      "Name: Price, dtype: float64\n"
     ]
    }
   ],
   "source": [
    "# Analyze price trends\n",
    "genre_prices = fitness_apps.groupby('Genres')['Price'].mean().sort_values(ascending=False)\n",
    "print(\"Average Price by Genre:\\n\", genre_prices.head(10))\n"
   ]
  },
  {
   "cell_type": "code",
   "execution_count": 274,
   "id": "bf06d857-389e-49e5-939c-4acc542f571b",
   "metadata": {},
   "outputs": [
    {
     "name": "stdout",
     "output_type": "stream",
     "text": [
      "['art_and_design' 'auto_and_vehicles' 'beauty' 'books_and_reference'\n",
      " 'business' 'comics' 'communication' 'dating' 'education' 'entertainment'\n",
      " 'events' 'finance' 'food_and_drink' 'health_and_fitness' 'house_and_home'\n",
      " 'libraries_and_demo' 'lifestyle' 'game' 'family' 'medical' 'social'\n",
      " 'shopping' 'photography' 'sports' 'travel_and_local' 'tools'\n",
      " 'personalization' 'productivity' 'parenting' 'weather' 'video_players'\n",
      " 'news_and_magazines' 'maps_and_navigation' '1.9']\n",
      "Number of rows in fitness_apps: 341\n",
      "                                                 App            Category  \\\n",
      "1256                     Home Workout - No Equipment  health_and_fitness   \n",
      "1257                  Step Counter - Calorie Counter  health_and_fitness   \n",
      "1258        Lose Belly Fat in 30 Days - Flat Stomach  health_and_fitness   \n",
      "1259  Pedometer - Step Counter Free & Calorie Burner  health_and_fitness   \n",
      "1260               Six Pack in 30 Days - Abs Workout  health_and_fitness   \n",
      "\n",
      "      Rating  Reviews  Size  Installs  Type  Price Content Rating  \\\n",
      "1256     4.8   428156  15.0  10000000  free    0.0       everyone   \n",
      "1257     4.0     1577   2.2    500000  free    0.0       everyone   \n",
      "1258     4.9    38098  11.0   5000000  free    0.0       everyone   \n",
      "1259     4.8    31139   6.9   1000000  free    0.0       everyone   \n",
      "1260     4.9   272337  13.0  10000000  free    0.0       everyone   \n",
      "\n",
      "                Genres Last Updated         Current Ver  \\\n",
      "1256  health & fitness   2018-06-28  Varies with device   \n",
      "1257  health & fitness   2017-08-12               1.0.7   \n",
      "1258  health & fitness   2018-06-21               1.0.4   \n",
      "1259  health & fitness   2018-07-24              1.0.11   \n",
      "1260  health & fitness   2018-06-21               1.0.2   \n",
      "\n",
      "                                            Android Ver  \n",
      "1256  <bound method NDFrame.fillna of 0             ...  \n",
      "1257  <bound method NDFrame.fillna of 0             ...  \n",
      "1258  <bound method NDFrame.fillna of 0             ...  \n",
      "1259  <bound method NDFrame.fillna of 0             ...  \n",
      "1260  <bound method NDFrame.fillna of 0             ...  \n"
     ]
    }
   ],
   "source": [
    "print(df['Category'].unique())\n",
    "# Filter fitness apps using 'Category'\n",
    "fitness_apps = df[df['Category'].str.strip().str.lower() == \"health_and_fitness\"]\n",
    "\n",
    "# Check the number of rows in the filtered dataframe\n",
    "print(f\"Number of rows in fitness_apps: {fitness_apps.shape[0]}\")\n",
    "\n",
    "# Preview the filtered dataset\n",
    "print(fitness_apps.head())\n",
    "\n"
   ]
  },
  {
   "cell_type": "code",
   "execution_count": 276,
   "id": "07e6a16b-df7b-477d-8d9d-6c6a4f3bb9aa",
   "metadata": {},
   "outputs": [
    {
     "name": "stdout",
     "output_type": "stream",
     "text": [
      "Total Installs for Fitness Apps: 1583072512\n",
      "Average Installs per Fitness App: 4642441.3841642225\n"
     ]
    }
   ],
   "source": [
    "# Total and average installs for fitness apps\n",
    "total_installs = fitness_apps['Installs'].sum()\n",
    "average_installs = fitness_apps['Installs'].mean()\n",
    "print(f\"Total Installs for Fitness Apps: {total_installs}\")\n",
    "print(f\"Average Installs per Fitness App: {average_installs}\")\n"
   ]
  },
  {
   "cell_type": "code",
   "execution_count": 278,
   "id": "25706d65-3a0b-48a7-aecf-1cc8f2d22844",
   "metadata": {},
   "outputs": [
    {
     "name": "stdout",
     "output_type": "stream",
     "text": [
      "Fitness App Downloads by Year:\n",
      " Year\n",
      "2012       1100000\n",
      "2013         10000\n",
      "2014        610000\n",
      "2015        353600\n",
      "2016       1843060\n",
      "2017      10458576\n",
      "2018    1568697276\n",
      "Name: Installs, dtype: int64\n"
     ]
    },
    {
     "name": "stderr",
     "output_type": "stream",
     "text": [
      "C:\\Users\\Dath\\AppData\\Local\\Temp\\ipykernel_1416\\424421718.py:3: SettingWithCopyWarning: \n",
      "A value is trying to be set on a copy of a slice from a DataFrame.\n",
      "Try using .loc[row_indexer,col_indexer] = value instead\n",
      "\n",
      "See the caveats in the documentation: https://pandas.pydata.org/pandas-docs/stable/user_guide/indexing.html#returning-a-view-versus-a-copy\n",
      "  fitness_apps['Year'] = fitness_apps['Last Updated'].dt.year\n"
     ]
    },
    {
     "data": {
      "image/png": "[encoded data removed]",
      "text/plain": [
       "<Figure size 1000x600 with 1 Axes>"
      ]
     },
     "metadata": {},
     "output_type": "display_data"
    }
   ],
   "source": [
    "# Ensure 'Last Updated' is in datetime format\n",
    "df['Last Updated'] = pd.to_datetime(df['Last Updated'], errors='coerce')\n",
    "fitness_apps['Year'] = fitness_apps['Last Updated'].dt.year\n",
    "\n",
    "# Group by year and calculate total installs\n",
    "fitness_installs_by_year = fitness_apps.groupby('Year')['Installs'].sum()\n",
    "\n",
    "# Print and plot yearly trends\n",
    "print(\"Fitness App Downloads by Year:\\n\", fitness_installs_by_year)\n",
    "\n",
    "# Plot yearly trends\n",
    "import matplotlib.pyplot as plt\n",
    "fitness_installs_by_year.plot(kind='bar', figsize=(10, 6), color='skyblue')\n",
    "plt.title('Fitness App Downloads by Year')\n",
    "plt.xlabel('Year')\n",
    "plt.ylabel('Total Installs')\n",
    "plt.show()\n"
   ]
  },
  {
   "cell_type": "code",
   "execution_count": 281,
   "id": "c43428b8-8910-4d2f-8a11-a30975dc040f",
   "metadata": {},
   "outputs": [
    {
     "name": "stdout",
     "output_type": "stream",
     "text": [
      "Number of fitness apps: 341\n",
      "Year\n",
      "2018    274\n",
      "2017     36\n",
      "2016     16\n",
      "2015      9\n",
      "2014      3\n",
      "2012      2\n",
      "2013      1\n",
      "Name: count, dtype: int64\n"
     ]
    }
   ],
   "source": [
    "print(f\"Number of fitness apps: {fitness_apps.shape[0]}\")\n",
    "print(fitness_apps['Year'].value_counts())\n"
   ]
  },
  {
   "cell_type": "code",
   "execution_count": 283,
   "id": "772b0384-26a8-4e82-9a8f-fd972ce49de0",
   "metadata": {},
   "outputs": [
    {
     "name": "stdout",
     "output_type": "stream",
     "text": [
      "count    3.410000e+02\n",
      "mean     4.642441e+06\n",
      "std      2.822451e+07\n",
      "min      1.000000e+00\n",
      "25%      5.000000e+03\n",
      "50%      5.000000e+05\n",
      "75%      5.000000e+06\n",
      "max      5.000000e+08\n",
      "Name: Installs, dtype: float64\n"
     ]
    }
   ],
   "source": [
    "print(fitness_apps['Installs'].describe())\n"
   ]
  },
  {
   "cell_type": "code",
   "execution_count": 285,
   "id": "eda5ead7-e47c-4be6-a64d-c280a6b84849",
   "metadata": {},
   "outputs": [
    {
     "ename": "NameError",
     "evalue": "name 'fitness_installs_per_year' is not defined",
     "output_type": "error",
     "traceback": [
      "\u001b[1;31m---------------------------------------------------------------------------\u001b[0m",
      "\u001b[1;31mNameError\u001b[0m                                 Traceback (most recent call last)",
      "Cell \u001b[1;32mIn[285], line 3\u001b[0m\n\u001b[0;32m      1\u001b[0m \u001b[38;5;28;01mimport\u001b[39;00m \u001b[38;5;21;01mmatplotlib\u001b[39;00m\u001b[38;5;21;01m.\u001b[39;00m\u001b[38;5;21;01mpyplot\u001b[39;00m \u001b[38;5;28;01mas\u001b[39;00m \u001b[38;5;21;01mplt\u001b[39;00m\n\u001b[1;32m----> 3\u001b[0m fitness_installs_per_year\u001b[38;5;241m.\u001b[39mplot(kind\u001b[38;5;241m=\u001b[39m\u001b[38;5;124m'\u001b[39m\u001b[38;5;124mbar\u001b[39m\u001b[38;5;124m'\u001b[39m, figsize\u001b[38;5;241m=\u001b[39m(\u001b[38;5;241m10\u001b[39m, \u001b[38;5;241m6\u001b[39m), color\u001b[38;5;241m=\u001b[39m\u001b[38;5;124m'\u001b[39m\u001b[38;5;124mskyblue\u001b[39m\u001b[38;5;124m'\u001b[39m)\n\u001b[0;32m      4\u001b[0m plt\u001b[38;5;241m.\u001b[39mtitle(\u001b[38;5;124m'\u001b[39m\u001b[38;5;124mAverage Fitness App Downloads by Year\u001b[39m\u001b[38;5;124m'\u001b[39m)\n\u001b[0;32m      5\u001b[0m plt\u001b[38;5;241m.\u001b[39mxlabel(\u001b[38;5;124m'\u001b[39m\u001b[38;5;124mYear\u001b[39m\u001b[38;5;124m'\u001b[39m)\n",
      "\u001b[1;31mNameError\u001b[0m: name 'fitness_installs_per_year' is not defined"
     ]
    }
   ],
   "source": [
    "import matplotlib.pyplot as plt\n",
    "\n",
    "fitness_installs_per_year.plot(kind='bar', figsize=(10, 6), color='skyblue')\n",
    "plt.title('Average Fitness App Downloads by Year')\n",
    "plt.xlabel('Year')\n",
    "plt.ylabel('Average Installs per App')\n",
    "plt.xticks(rotation=45)\n",
    "plt.tight_layout()\n",
    "plt.show()\n"
   ]
  },
  {
   "cell_type": "code",
   "execution_count": 289,
   "id": "432e35fd-9fce-475e-ab2a-a9f7ff24e571",
   "metadata": {},
   "outputs": [
    {
     "name": "stdout",
     "output_type": "stream",
     "text": [
      "Year\n",
      "2012    5.500000e+05\n",
      "2013    1.000000e+04\n",
      "2014    2.033333e+05\n",
      "2015    3.928889e+04\n",
      "2016    1.151912e+05\n",
      "2017    2.905160e+05\n",
      "2018    5.725173e+06\n",
      "Name: Installs, dtype: float64\n",
      "Year\n",
      "2012    5.500000e+05\n",
      "2013    1.000000e+04\n",
      "2014    2.033333e+05\n",
      "2015    3.928889e+04\n",
      "2016    1.151912e+05\n",
      "2017    2.905160e+05\n",
      "2018    5.725173e+06\n",
      "Name: Installs, dtype: float64\n"
     ]
    }
   ],
   "source": [
    "fitness_installs_per_year = fitness_apps.groupby('Year')['Installs'].mean()\n",
    "print(fitness_installs_per_year)\n",
    "fitness_installs_weighted = fitness_apps.groupby('Year')['Installs'].sum() / fitness_apps.groupby('Year')['Installs'].count()\n",
    "print(fitness_installs_weighted)\n"
   ]
  },
  {
   "cell_type": "code",
   "execution_count": 291,
   "id": "ce92e135-d7ea-4ad2-b062-e70c01da536c",
   "metadata": {},
   "outputs": [
    {
     "data": {
      "image/png": "[encoded data removed]",
      "text/plain": [
       "<Figure size 1000x600 with 1 Axes>"
      ]
     },
     "metadata": {},
     "output_type": "display_data"
    }
   ],
   "source": [
    "fitness_installs_per_year.plot(kind='bar', figsize=(10, 6), color='skyblue')\n",
    "plt.title('Average Fitness App Downloads by Year')\n",
    "plt.xlabel('Year')\n",
    "plt.ylabel('Average Installs per App')\n",
    "plt.xticks(rotation=45)\n",
    "plt.tight_layout()\n",
    "plt.show()"
   ]
  },
  {
   "cell_type": "code",
   "execution_count": 293,
   "id": "2f2436da-5c49-46e4-ac1d-b62f4fe0e6dc",
   "metadata": {},
   "outputs": [
    {
     "name": "stdout",
     "output_type": "stream",
     "text": [
      "Cleaned data successfully exported to cleaned_data.xlsx\n"
     ]
    }
   ],
   "source": [
    "# Export the cleaned DataFrame to an Excel file\n",
    "output_file_path = \"cleaned_data.xlsx\"  # Define the output file name\n",
    "df.to_excel(output_file_path, index=False)  # Set index=False to avoid exporting the DataFrame index\n",
    "\n",
    "print(f\"Cleaned data successfully exported to {output_file_path}\")\n"
   ]
  },
  {
   "cell_type": "code",
   "execution_count": null,
   "id": "f2539202-ed3a-41c2-9f4b-87aa7f9c424e",
   "metadata": {},
   "outputs": [],
   "source": []
  }
 ],
 "metadata": {
  "kernelspec": {
   "display_name": "Python 3 (ipykernel)",
   "language": "python",
   "name": "python3"
  },
  "language_info": {
   "codemirror_mode": {
    "name": "ipython",
    "version": 3
   },
   "file_extension": ".py",
   "mimetype": "text/x-python",
   "name": "python",
   "nbconvert_exporter": "python",
   "pygments_lexer": "ipython3",
   "version": "3.12.4"
  }
 },
 "nbformat": 4,
 "nbformat_minor": 5
}
